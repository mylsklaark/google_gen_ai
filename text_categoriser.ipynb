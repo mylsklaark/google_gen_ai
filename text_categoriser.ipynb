{
 "cells": [
  {
   "cell_type": "markdown",
   "metadata": {
    "id": "b6e13eef3f5d"
   },
   "source": [
    "##### Copyright 2025 Google LLC."
   ]
  },
  {
   "cell_type": "code",
   "execution_count": 1,
   "metadata": {
    "cellView": "form",
    "execution": {
     "iopub.execute_input": "2025-02-28T07:39:24.011577Z",
     "iopub.status.busy": "2025-02-28T07:39:24.010656Z",
     "iopub.status.idle": "2025-02-28T07:39:24.035703Z",
     "shell.execute_reply": "2025-02-28T07:39:24.034263Z",
     "shell.execute_reply.started": "2025-02-28T07:39:24.011515Z"
    },
    "id": "d6597b11df14",
    "jupyter": {
     "source_hidden": true
    },
    "trusted": true
   },
   "outputs": [],
   "source": [
    "# @title Licensed under the Apache License, Version 2.0 (the \"License\");\n",
    "# you may not use this file except in compliance with the License.\n",
    "# You may obtain a copy of the License at\n",
    "#\n",
    "# https://www.apache.org/licenses/LICENSE-2.0\n",
    "#\n",
    "# Unless required by applicable law or agreed to in writing, software\n",
    "# distributed under the License is distributed on an \"AS IS\" BASIS,\n",
    "# WITHOUT WARRANTIES OR CONDITIONS OF ANY KIND, either express or implied.\n",
    "# See the License for the specific language governing permissions and\n",
    "# limitations under the License."
   ]
  },
  {
   "cell_type": "markdown",
   "metadata": {},
   "source": [
    "This project riffs on the notebook supplied in Google and Kaggle's generative AI course. Having trained my own models to complete text classification tasks (see other notebook) I wanted to experiment with an LLM to see how the results compared."
   ]
  },
  {
   "cell_type": "markdown",
   "metadata": {
    "id": "4KDIFPAL2EnL"
   },
   "source": [
    "# Day 4 - Fine tuning a custom model\n",
    "\n",
    "Welcome back to the Kaggle 5-day Generative AI course!\n",
    "\n",
    "In this notebook you will use the Gemini API to fine-tune a custom, task-specific model. Fine-tuning can be used for a variety of tasks from classic NLP problems like entity extraction or summarisation, to creative tasks like stylised generation. You will fine-tune a model to classify the category a piece of text (a newsgroup post) into the category it belongs to (the newsgroup name).\n",
    "\n",
    "This codelab walks you tuning a model with the API. [AI Studio](https://aistudio.google.com/app/tune) also supports creating new tuned models directly in the web UI, allowing you to quickly create and monitor models using data from Google Sheets, Drive or your own files.\n",
    "\n",
    "**Note**: We recommend doing this codelab first today. There may be a period of waiting while the model tunes, so if you start with this one, you can try the other codelab while you wait."
   ]
  },
  {
   "cell_type": "code",
   "execution_count": 2,
   "metadata": {
    "execution": {
     "iopub.execute_input": "2025-04-07T20:04:40.108346Z",
     "iopub.status.busy": "2025-04-07T20:04:40.107976Z",
     "iopub.status.idle": "2025-04-07T20:05:02.397261Z",
     "shell.execute_reply": "2025-04-07T20:05:02.395226Z",
     "shell.execute_reply.started": "2025-04-07T20:04:40.108310Z"
    },
    "id": "9wafTyEH1_xF",
    "trusted": true
   },
   "outputs": [],
   "source": [
    "!pip uninstall -qqy jupyterlab  # Remove unused conflicting packages\n",
    "!pip install -U -q \"google-genai==1.7.0\""
   ]
  },
  {
   "cell_type": "code",
   "execution_count": 23,
   "metadata": {
    "execution": {
     "iopub.execute_input": "2025-04-07T20:05:49.525592Z",
     "iopub.status.busy": "2025-04-07T20:05:49.525143Z",
     "iopub.status.idle": "2025-04-07T20:05:51.123695Z",
     "shell.execute_reply": "2025-04-07T20:05:51.122385Z",
     "shell.execute_reply.started": "2025-04-07T20:05:49.525544Z"
    },
    "id": "T0CBG9xL2PvT",
    "trusted": true
   },
   "outputs": [
    {
     "data": {
      "text/plain": [
       "'1.7.0'"
      ]
     },
     "execution_count": 23,
     "metadata": {},
     "output_type": "execute_result"
    }
   ],
   "source": [
    "from dotenv import load_dotenv\n",
    "import os\n",
    "import re\n",
    "import ndjson\n",
    "import pandas as pd\n",
    "from collections import Counter\n",
    "\n",
    "\n",
    "from google import genai\n",
    "from google.genai import types\n",
    "\n",
    "genai.__version__"
   ]
  },
  {
   "cell_type": "markdown",
   "metadata": {
    "id": "P4bYX2T72ScK"
   },
   "source": [
    "### Set up your API key\n",
    "\n",
    "To run the following cell, your API key must be stored it in a [Kaggle secret](https://www.kaggle.com/discussions/product-feedback/114053) named `GOOGLE_API_KEY`.\n",
    "\n",
    "If you don't already have an API key, you can grab one from [AI Studio](https://aistudio.google.com/app/apikey). You can find [detailed instructions in the docs](https://ai.google.dev/gemini-api/docs/api-key).\n",
    "\n",
    "To make the key available through Kaggle secrets, choose `Secrets` from the `Add-ons` menu and follow the instructions to add your key or enable it for this notebook."
   ]
  },
  {
   "cell_type": "code",
   "execution_count": 4,
   "metadata": {},
   "outputs": [],
   "source": [
    "load_dotenv()\n",
    "\n",
    "GOOGLE_API_KEY = os.getenv(\"GEMINI_API_KEY\")\n",
    "\n",
    "if not GOOGLE_API_KEY:\n",
    "    raise ValueError(\"GEMINI_API_KEY not found in environment variables.\")\n",
    "\n",
    "client = genai.Client(api_key=GOOGLE_API_KEY)"
   ]
  },
  {
   "cell_type": "markdown",
   "metadata": {
    "id": "CqVA5QFO6n4z"
   },
   "source": [
    "### Explore available models\n",
    "\n",
    "You will be using the [`TunedModel.create`](https://ai.google.dev/api/tuning#method:-tunedmodels.create) API method to start the fine-tuning job and create your custom model. Find a model that supports it through the [`models.list`](https://ai.google.dev/api/models#method:-models.list) endpoint. You can also find more information about tuning models in [the model tuning docs](https://ai.google.dev/gemini-api/docs/model-tuning/tutorial?lang=python)."
   ]
  },
  {
   "cell_type": "code",
   "execution_count": 5,
   "metadata": {
    "execution": {
     "iopub.execute_input": "2025-04-07T20:06:09.785087Z",
     "iopub.status.busy": "2025-04-07T20:06:09.783809Z",
     "iopub.status.idle": "2025-04-07T20:06:09.841148Z",
     "shell.execute_reply": "2025-04-07T20:06:09.839887Z",
     "shell.execute_reply.started": "2025-04-07T20:06:09.785024Z"
    },
    "id": "coEacWAB6o0G",
    "trusted": true
   },
   "outputs": [
    {
     "name": "stdout",
     "output_type": "stream",
     "text": [
      "models/gemini-1.5-flash-001-tuning\n"
     ]
    }
   ],
   "source": [
    "for model in client.models.list():\n",
    "    if \"createTunedModel\" in model.supported_actions:\n",
    "        print(model.name)"
   ]
  },
  {
   "cell_type": "markdown",
   "metadata": {
    "id": "peFm0w_0c1CO"
   },
   "source": [
    "## Download the dataset\n",
    "\n",
    "In this activity, you will use the same newsgroups dataset that [you used to train a classifier in Keras](https://www.kaggle.com/code/markishere/day-2-classifying-embeddings-with-keras/). In this example you will use a fine-tuned Gemini model to achieve the same goal.\n",
    "\n",
    "The [20 Newsgroups Text Dataset](https://scikit-learn.org/0.19/datasets/twenty_newsgroups.html) contains 18,000 newsgroups posts on 20 topics divided into training and test sets."
   ]
  },
  {
   "cell_type": "code",
   "execution_count": null,
   "metadata": {
    "execution": {
     "iopub.execute_input": "2025-04-07T20:06:21.433638Z",
     "iopub.status.busy": "2025-04-07T20:06:21.432429Z",
     "iopub.status.idle": "2025-04-07T20:06:35.213070Z",
     "shell.execute_reply": "2025-04-07T20:06:35.211904Z",
     "shell.execute_reply.started": "2025-04-07T20:06:21.433575Z"
    },
    "id": "bX_kpgnQ9b-Z",
    "trusted": true
   },
   "outputs": [
    {
     "data": {
      "text/plain": [
       "['alt.atheism',\n",
       " 'comp.graphics',\n",
       " 'comp.os.ms-windows.misc',\n",
       " 'comp.sys.ibm.pc.hardware',\n",
       " 'comp.sys.mac.hardware',\n",
       " 'comp.windows.x',\n",
       " 'misc.forsale',\n",
       " 'rec.autos',\n",
       " 'rec.motorcycles',\n",
       " 'rec.sport.baseball',\n",
       " 'rec.sport.hockey',\n",
       " 'sci.crypt',\n",
       " 'sci.electronics',\n",
       " 'sci.med',\n",
       " 'sci.space',\n",
       " 'soc.religion.christian',\n",
       " 'talk.politics.guns',\n",
       " 'talk.politics.mideast',\n",
       " 'talk.politics.misc',\n",
       " 'talk.religion.misc']"
      ]
     },
     "execution_count": 6,
     "metadata": {},
     "output_type": "execute_result"
    }
   ],
   "source": [
    "# from sklearn.datasets import fetch_20newsgroups\n",
    "\n",
    "# newsgroups_train = fetch_20newsgroups(subset=\"train\")\n",
    "# newsgroups_test = fetch_20newsgroups(subset=\"test\")\n",
    "\n",
    "#  View list of class names for dataset\n",
    "# newsgroups_train.target_names"
   ]
  },
  {
   "cell_type": "markdown",
   "metadata": {
    "id": "ipafe6ptZFjt"
   },
   "source": [
    "Here's what a single row looks like."
   ]
  },
  {
   "cell_type": "code",
   "execution_count": null,
   "metadata": {
    "execution": {
     "iopub.execute_input": "2025-04-07T20:06:39.713562Z",
     "iopub.status.busy": "2025-04-07T20:06:39.713138Z",
     "iopub.status.idle": "2025-04-07T20:06:39.720402Z",
     "shell.execute_reply": "2025-04-07T20:06:39.718898Z",
     "shell.execute_reply.started": "2025-04-07T20:06:39.713525Z"
    },
    "id": "EtEXcdT39hCB",
    "trusted": true
   },
   "outputs": [
    {
     "name": "stdout",
     "output_type": "stream",
     "text": [
      "From: lerxst@wam.umd.edu (where's my thing)\n",
      "Subject: WHAT car is this!?\n",
      "Nntp-Posting-Host: rac3.wam.umd.edu\n",
      "Organization: University of Maryland, College Park\n",
      "Lines: 15\n",
      "\n",
      " I was wondering if anyone out there could enlighten me on this car I saw\n",
      "the other day. It was a 2-door sports car, looked to be from the late 60s/\n",
      "early 70s. It was called a Bricklin. The doors were really small. In addition,\n",
      "the front bumper was separate from the rest of the body. This is \n",
      "all I know. If anyone can tellme a model name, engine specs, years\n",
      "of production, where this car is made, history, or whatever info you\n",
      "have on this funky looking car, please e-mail.\n",
      "\n",
      "Thanks,\n",
      "- IL\n",
      "   ---- brought to you by your neighborhood Lerxst ----\n",
      "\n",
      "\n",
      "\n",
      "\n",
      "\n"
     ]
    }
   ],
   "source": [
    "# print(newsgroups_train.data[0])"
   ]
  },
  {
   "cell_type": "markdown",
   "metadata": {
    "id": "03lDs1O4ZQ0-"
   },
   "source": [
    "## Prepare the dataset\n",
    "\n",
    "You'll use the same pre-processing code you used for the custom model on day 2. This pre-processing removes personal information, which can be used to \"shortcut\" to known users of a forum, and formats the text to appear a bit more like regular text and less like a newsgroup post (e.g. by removing the mail headers). This normalisation allows the model to generalise to regular text and not over-depend on specific fields. If your input data is always going to be newsgroup posts, it may be helpful to leave this structure in place if they provide genuine signals."
   ]
  },
  {
   "cell_type": "code",
   "execution_count": null,
   "metadata": {
    "execution": {
     "iopub.execute_input": "2025-04-07T20:07:06.078446Z",
     "iopub.status.busy": "2025-04-07T20:07:06.077930Z",
     "iopub.status.idle": "2025-04-07T20:07:07.596607Z",
     "shell.execute_reply": "2025-04-07T20:07:07.594821Z",
     "shell.execute_reply.started": "2025-04-07T20:07:06.078405Z"
    },
    "id": "IoNYTxpoZgB0",
    "trusted": true
   },
   "outputs": [],
   "source": [
    "# import email\n",
    "# import re\n",
    "\n",
    "# import pandas as pd\n",
    "\n",
    "\n",
    "# def preprocess_newsgroup_row(data):\n",
    "     # Extract only the subject and body\n",
    "    # msg = email.message_from_string(data)\n",
    "    # text = f\"{msg['Subject']}\\n\\n{msg.get_payload()}\"\n",
    "     # Strip any remaining email addresses\n",
    "    # text = re.sub(r\"[\\w\\.-]+@[\\w\\.-]+\", \"\", text)\n",
    "     # Truncate the text to fit within the input limits\n",
    "    # text = text[:40000]\n",
    "\n",
    "    #return text\n",
    "\n",
    "\n",
    "#def preprocess_newsgroup_data(newsgroup_dataset):\n",
    "     # Put data points into dataframe\n",
    "    #df = pd.DataFrame(\n",
    "        #{\"Text\": newsgroup_dataset.data, \"Label\": newsgroup_dataset.target}\n",
    "    \n",
    "    # Clean up the text\n",
    "    #df[\"Text\"] = df[\"Text\"].apply(preprocess_newsgroup_row)\n",
    "    # Match label to target name index\n",
    "    #df[\"Class Name\"] = df[\"Label\"].map(lambda l: newsgroup_dataset.target_names[l])\n",
    "\n",
    "    #return df"
   ]
  },
  {
   "cell_type": "code",
   "execution_count": null,
   "metadata": {},
   "outputs": [],
   "source": [
    "data_dir = 'data'\n",
    "all_data = []\n",
    "\n",
    "for filename in os.listdir(data_dir):\n",
    "    if filename.endswith('.ndjson'):\n",
    "        \n",
    "        label_word = filename.split('-')[0].lower()\n",
    "        \n",
    "        filepath = os.path.join(data_dir, filename)\n",
    "        \n",
    "        with open(filepath, 'r', encoding='utf-8') as f:\n",
    "            tweets = ndjson.load(f)\n",
    "            \n",
    "            for tweet in tweets:\n",
    "                text = tweet.get('text', '')\n",
    "                relevance = tweet.get('relevance', 0)\n",
    "                \n",
    "                if relevance == 1:\n",
    "                    label = label_word\n",
    "                else:\n",
    "                    label =  'non-disaster'\n",
    "                    \n",
    "                all_data.append({'text': text, 'label': label})"
   ]
  },
  {
   "cell_type": "code",
   "execution_count": null,
   "metadata": {},
   "outputs": [
    {
     "name": "stdout",
     "output_type": "stream",
     "text": [
      "Counter({'non-disaster': 10048, 'hurricane': 3837, 'tornado': 1876, 'flood': 1797, 'earthquake': 1673, 'wildfire': 865})\n"
     ]
    }
   ],
   "source": [
    "label_counts = Counter(d['label'] for d in all_data)\n",
    "print(label_counts)"
   ]
  },
  {
   "cell_type": "code",
   "execution_count": null,
   "metadata": {},
   "outputs": [],
   "source": [
    "# Go back and adjust some of this if results are not satisfactory.\n",
    "\n",
    "def clean_text_for_llm(text):\n",
    "    \n",
    "    # Lowercase\n",
    "    text = text.lower()\n",
    "    \n",
    "    # Replace URLs with placeholder\n",
    "    text = re.sub(r'https?://\\S+','<URL>', text)\n",
    "    \n",
    "    # Fix special characters or encoding noise\n",
    "    text = re.sub(r'[â€—\\x01]', '', text)\n",
    "    \n",
    "    # Remove excess whitespace\n",
    "    text = re.sub(r'\\s+', ' ', text).strip()\n",
    "    \n",
    "    return text"
   ]
  },
  {
   "cell_type": "code",
   "execution_count": 88,
   "metadata": {},
   "outputs": [],
   "source": [
    "cleaned_data = []\n",
    "\n",
    "for tweet in all_data:\n",
    "    cleaned_tweet = {\n",
    "        'text': clean_text_for_llm(tweet['text']),\n",
    "        'label': tweet['label']\n",
    "    }\n",
    "    cleaned_data.append(cleaned_tweet)"
   ]
  },
  {
   "cell_type": "code",
   "execution_count": 89,
   "metadata": {},
   "outputs": [],
   "source": [
    "df_cleaned = pd.DataFrame(cleaned_data)"
   ]
  },
  {
   "cell_type": "code",
   "execution_count": 90,
   "metadata": {},
   "outputs": [
    {
     "data": {
      "text/html": [
       "<div>\n",
       "<style scoped>\n",
       "    .dataframe tbody tr th:only-of-type {\n",
       "        vertical-align: middle;\n",
       "    }\n",
       "\n",
       "    .dataframe tbody tr th {\n",
       "        vertical-align: top;\n",
       "    }\n",
       "\n",
       "    .dataframe thead th {\n",
       "        text-align: right;\n",
       "    }\n",
       "</style>\n",
       "<table border=\"1\" class=\"dataframe\">\n",
       "  <thead>\n",
       "    <tr style=\"text-align: right;\">\n",
       "      <th></th>\n",
       "      <th>text</th>\n",
       "      <th>label</th>\n",
       "    </tr>\n",
       "  </thead>\n",
       "  <tbody>\n",
       "    <tr>\n",
       "      <th>0</th>\n",
       "      <td>cruuuuud. tornado warning for denton county. a...</td>\n",
       "      <td>tornado</td>\n",
       "    </tr>\n",
       "    <tr>\n",
       "      <th>1</th>\n",
       "      <td>tornado warning for tarrant county. storm spot...</td>\n",
       "      <td>tornado</td>\n",
       "    </tr>\n",
       "    <tr>\n",
       "      <th>2</th>\n",
       "      <td>tornado on the ground in azle headed right tow...</td>\n",
       "      <td>tornado</td>\n",
       "    </tr>\n",
       "    <tr>\n",
       "      <th>3</th>\n",
       "      <td>us tornado toll rises to &lt;number&gt; (afp) &lt;url&gt;</td>\n",
       "      <td>tornado</td>\n",
       "    </tr>\n",
       "    <tr>\n",
       "      <th>4</th>\n",
       "      <td>tornado sirens. this is scary.</td>\n",
       "      <td>tornado</td>\n",
       "    </tr>\n",
       "    <tr>\n",
       "      <th>...</th>\n",
       "      <td>...</td>\n",
       "      <td>...</td>\n",
       "    </tr>\n",
       "    <tr>\n",
       "      <th>20091</th>\n",
       "      <td>&lt;number&gt; goes out to &lt;user&gt; @paytonlund &lt;user&gt;...</td>\n",
       "      <td>non-disaster</td>\n",
       "    </tr>\n",
       "    <tr>\n",
       "      <th>20092</th>\n",
       "      <td>the perception of doctors has undergone a dram...</td>\n",
       "      <td>non-disaster</td>\n",
       "    </tr>\n",
       "    <tr>\n",
       "      <th>20093</th>\n",
       "      <td>birmingham, live on tour. &lt;url&gt;</td>\n",
       "      <td>non-disaster</td>\n",
       "    </tr>\n",
       "    <tr>\n",
       "      <th>20094</th>\n",
       "      <td>february &lt;number&gt; h is international polar bea...</td>\n",
       "      <td>non-disaster</td>\n",
       "    </tr>\n",
       "    <tr>\n",
       "      <th>20095</th>\n",
       "      <td>what ima do what ima do , ima beat my dick ima...</td>\n",
       "      <td>non-disaster</td>\n",
       "    </tr>\n",
       "  </tbody>\n",
       "</table>\n",
       "<p>20096 rows × 2 columns</p>\n",
       "</div>"
      ],
      "text/plain": [
       "                                                    text         label\n",
       "0      cruuuuud. tornado warning for denton county. a...       tornado\n",
       "1      tornado warning for tarrant county. storm spot...       tornado\n",
       "2      tornado on the ground in azle headed right tow...       tornado\n",
       "3          us tornado toll rises to <number> (afp) <url>       tornado\n",
       "4                         tornado sirens. this is scary.       tornado\n",
       "...                                                  ...           ...\n",
       "20091  <number> goes out to <user> @paytonlund <user>...  non-disaster\n",
       "20092  the perception of doctors has undergone a dram...  non-disaster\n",
       "20093                    birmingham, live on tour. <url>  non-disaster\n",
       "20094  february <number> h is international polar bea...  non-disaster\n",
       "20095  what ima do what ima do , ima beat my dick ima...  non-disaster\n",
       "\n",
       "[20096 rows x 2 columns]"
      ]
     },
     "execution_count": 90,
     "metadata": {},
     "output_type": "execute_result"
    }
   ],
   "source": [
    "df_cleaned"
   ]
  },
  {
   "cell_type": "code",
   "execution_count": 91,
   "metadata": {},
   "outputs": [],
   "source": [
    "def sample_data(df, num_samples, labels_to_keep):\n",
    "    \n",
    "    df = df[df[\"label\"].isin(labels_to_keep)]\n",
    "    \n",
    "    df = (\n",
    "        df.groupby(\"label\")[df.columns]\n",
    "        .apply(lambda x: x.sample(num_samples, random_state=42))\n",
    "        .reset_index(drop=True)\n",
    "    )\n",
    "\n",
    "    df[\"label\"] = df[\"label\"].astype(\"category\")\n",
    "    \n",
    "    return df"
   ]
  },
  {
   "cell_type": "code",
   "execution_count": 92,
   "metadata": {},
   "outputs": [],
   "source": [
    "labels_to_keep = ['non-disaster', 'hurricane', 'tornado', 'flood', 'earthquake','wildfire']\n",
    "train_num_samples = 50 \n",
    "test_num_samples = 10"
   ]
  },
  {
   "cell_type": "code",
   "execution_count": 93,
   "metadata": {},
   "outputs": [],
   "source": [
    "df_train = sample_data(df_cleaned, train_num_samples, labels_to_keep) \n",
    "df_test = sample_data(df_cleaned, test_num_samples, labels_to_keep) "
   ]
  },
  {
   "cell_type": "code",
   "execution_count": 94,
   "metadata": {},
   "outputs": [
    {
     "data": {
      "text/plain": [
       "'the blue mountains. so beautiful yet in a lot of danger today. already so windy up here. <user> <hashtag> nswfires http:…'"
      ]
     },
     "execution_count": 94,
     "metadata": {},
     "output_type": "execute_result"
    }
   ],
   "source": [
    "df_test.iloc[59]['text']"
   ]
  },
  {
   "cell_type": "code",
   "execution_count": 95,
   "metadata": {
    "execution": {
     "iopub.execute_input": "2025-04-07T20:07:47.988690Z",
     "iopub.status.busy": "2025-04-07T20:07:47.987940Z",
     "iopub.status.idle": "2025-04-07T20:07:51.743382Z",
     "shell.execute_reply": "2025-04-07T20:07:51.742100Z",
     "shell.execute_reply.started": "2025-04-07T20:07:47.988650Z"
    },
    "id": "kvOsUSRWaW4g",
    "trusted": true
   },
   "outputs": [],
   "source": [
    " # Apply preprocessing to training and test datasets\n",
    "# df_train = preprocess_newsgroup_data(newsgroups_train)\n",
    "# df_test = preprocess_newsgroup_data(newsgroups_test)\n",
    "\n",
    "# df_train.head()"
   ]
  },
  {
   "cell_type": "markdown",
   "metadata": {
    "id": "XSKcj5WtadaR"
   },
   "source": [
    "Now sample the data. You will keep 50 rows for each category for training. Note that this is even fewer than the Keras example, as this technique (parameter-efficient fine-tuning, or PEFT) updates a relatively small number of parameters and does not require training a new model or updating the large model."
   ]
  },
  {
   "cell_type": "code",
   "execution_count": 96,
   "metadata": {
    "execution": {
     "iopub.execute_input": "2025-04-07T20:08:10.167896Z",
     "iopub.status.busy": "2025-04-07T20:08:10.167406Z",
     "iopub.status.idle": "2025-04-07T20:08:10.223580Z",
     "shell.execute_reply": "2025-04-07T20:08:10.222216Z",
     "shell.execute_reply.started": "2025-04-07T20:08:10.167860Z"
    },
    "id": "0t9Xu6X5akkt",
    "trusted": true
   },
   "outputs": [
    {
     "ename": "IndentationError",
     "evalue": "unexpected indent (1241554196.py, line 7)",
     "output_type": "error",
     "traceback": [
      "  \u001b[36mCell\u001b[39m\u001b[36m \u001b[39m\u001b[32mIn[96]\u001b[39m\u001b[32m, line 7\u001b[39m\n\u001b[31m    \u001b[39m\u001b[31m)\u001b[39m\n    ^\n\u001b[31mIndentationError\u001b[39m\u001b[31m:\u001b[39m unexpected indent\n"
     ]
    }
   ],
   "source": [
    "# def sample_data(df, num_samples, classes_to_keep):\n",
    "     # Sample rows, selecting num_samples of each Label.\n",
    "   # df = (\n",
    "       #df.groupby(\"Label\")[df.columns]\n",
    "       #.apply(lambda x: x.sample(num_samples))\n",
    "       #.reset_index(drop=True)\n",
    "    )\n",
    "\n",
    "    #df = df[df[\"Class Name\"].str.contains(classes_to_keep)]\n",
    "    #df[\"Class Name\"] = df[\"Class Name\"].astype(\"category\")\n",
    "\n",
    "    #return df\n",
    "\n",
    "\n",
    "#TRAIN_NUM_SAMPLES = 50\n",
    "#TEST_NUM_SAMPLES = 10\n",
    " # Keep rec.* and sci.*\n",
    "#CLASSES_TO_KEEP = \"^rec|^sci\"\n",
    "\n",
    "#df_train = sample_data(df_train, TRAIN_NUM_SAMPLES, CLASSES_TO_KEEP)\n",
    "#df_test = sample_data(df_test, TEST_NUM_SAMPLES, CLASSES_TO_KEEP)"
   ]
  },
  {
   "cell_type": "markdown",
   "metadata": {},
   "source": [
    "## Evaluate baseline performance\n",
    "\n",
    "Before you start tuning a model, it's good practice to perform an evaluation on the available models to ensure you can measure how much the tuning helps.\n",
    "\n",
    "First identify a single sample row to use for visual inspection."
   ]
  },
  {
   "cell_type": "code",
   "execution_count": 11,
   "metadata": {
    "execution": {
     "iopub.execute_input": "2025-04-07T20:08:34.950333Z",
     "iopub.status.busy": "2025-04-07T20:08:34.949234Z",
     "iopub.status.idle": "2025-04-07T20:08:34.959111Z",
     "shell.execute_reply": "2025-04-07T20:08:34.957837Z",
     "shell.execute_reply.started": "2025-04-07T20:08:34.950281Z"
    },
    "trusted": true
   },
   "outputs": [
    {
     "name": "stdout",
     "output_type": "stream",
     "text": [
      "Need info on 88-89 Bonneville\n",
      "\n",
      "\n",
      " I am a little confused on all of the models of the 88-89 bonnevilles.\n",
      "I have heard of the LE SE LSE SSE SSEI. Could someone tell me the\n",
      "differences are far as features or performance. I am also curious to\n",
      "know what the book value is for prefereably the 89 model. And how much\n",
      "less than book value can you usually get them for. In other words how\n",
      "much are they in demand this time of year. I have heard that the mid-spring\n",
      "early summer is the best time to buy.\n",
      "\n",
      "\t\t\tNeil Gandler\n",
      "\n",
      "---\n",
      "Label: rec.autos\n"
     ]
    }
   ],
   "source": [
    "sample_idx = 0\n",
    "sample_row = preprocess_newsgroup_row(newsgroups_test.data[sample_idx])\n",
    "sample_label = newsgroups_test.target_names[newsgroups_test.target[sample_idx]]\n",
    "\n",
    "print(sample_row)\n",
    "print('---')\n",
    "print('Label:', sample_label)"
   ]
  },
  {
   "cell_type": "markdown",
   "metadata": {},
   "source": [
    "Passing the text directly in as a prompt does not yield the desired results. The model will attempt to respond to the message."
   ]
  },
  {
   "cell_type": "code",
   "execution_count": 12,
   "metadata": {
    "execution": {
     "iopub.execute_input": "2025-04-07T20:08:44.599253Z",
     "iopub.status.busy": "2025-04-07T20:08:44.598762Z",
     "iopub.status.idle": "2025-04-07T20:08:48.568254Z",
     "shell.execute_reply": "2025-04-07T20:08:48.567026Z",
     "shell.execute_reply.started": "2025-04-07T20:08:44.599185Z"
    },
    "trusted": true
   },
   "outputs": [
    {
     "name": "stdout",
     "output_type": "stream",
     "text": [
      "## 1988-1989 Pontiac Bonneville: A Guide to the Models\n",
      "\n",
      "You're right, there were a lot of variations in the 1988-1989 Bonneville lineup!  Here's a breakdown to help you navigate the trims:\n",
      "\n",
      "**Base Bonneville:**  The foundation model, typically equipped with a 3.8L V6 engine and a 4-speed automatic transmission. It was offered in both a 2-door coupe and 4-door sedan configuration.\n",
      "\n",
      "**LE (Luxury Edition):** This trim offered upgraded interior features like plush cloth upholstery, a digital instrument cluster, and possibly power accessories like windows and locks.\n",
      "\n",
      "**SE (Sport Edition):** Focused on a sportier aesthetic, the SE typically had a more aggressive front grille, body-color bumpers, and perhaps a firmer suspension. It often featured a more powerful 3.8L V6 with electronic fuel injection.\n",
      "\n",
      "**LSE (Luxury Sport Edition):** This was a combination of the LE and SE features, providing a blend of comfort and sporty style.\n",
      "\n",
      "**SSE (Special Sport Edition):** Introduced in 1988, the SSE boasted a more powerful 3.8L V6 (the \"3800\" engine) with a unique, high-flow intake manifold. It featured a more aggressive front fascia, a rear spoiler, and special \"SSE\" badging.\n",
      "\n",
      "**SSEi (Special Sport Edition Injection):** For 1989, the SSEi came with a turbocharged version of the 3800 V6, generating more horsepower and torque. It also had a unique grille, rear spoiler, and specific SSEi badging.\n",
      "\n",
      "**Book Value and Market Demand:**\n",
      "\n",
      "* **KBB (Kelley Blue Book):**  You can use websites like Kelley Blue Book (KBB) or Edmunds to get an idea of book values for different trims and conditions. The price will vary depending on the car's condition, mileage, and location.\n",
      "* **Demand:** The demand for 1988-1989 Bonnevilles is generally moderate. While they are not in extremely high demand, they are still sought after by some enthusiasts, especially those who prefer classic American cars. \n",
      "* **Seasonality:** While spring and early summer can be good times to buy, prices are generally most competitive in the late fall and winter when demand is lower.\n",
      "\n",
      "**Factors Influencing Value:**\n",
      "\n",
      "* **Condition:** Well-maintained, rust-free examples with low mileage will command higher prices.\n",
      "* **Trim Level:** SSEi and SSE models are generally more desirable and therefore command higher prices than base Bonnevilles.\n",
      "* **Location:** Prices can vary geographically depending on the local market demand for these cars.\n",
      "\n",
      "**Tips for Finding a Good Deal:**\n",
      "\n",
      "* **Research:** Before you start your search, know your budget and desired features.\n",
      "* **Inspect Carefully:**  Thoroughly inspect any vehicle before purchasing, particularly the engine, transmission, and body for any signs of damage or rust.\n",
      "* **Negotiate:**  Don't be afraid to negotiate the price, especially if you're dealing with a private seller. \n",
      "\n",
      "**Remember:** These are just general guidelines. The actual market value of a particular Bonneville will depend on its specific condition and features. Always do your research and shop around to find the best deal. \n",
      "\n"
     ]
    }
   ],
   "source": [
    "response = client.models.generate_content(\n",
    "    model=\"gemini-1.5-flash-001\", contents=sample_row)\n",
    "print(response.text)"
   ]
  },
  {
   "cell_type": "markdown",
   "metadata": {},
   "source": [
    "You can use the prompt engineering techniques you have learned this week to induce the model to perform the desired task. Try some of your own ideas and see what is effective, or check out the following cells for different approaches. Note that they have different levels of effectiveness!"
   ]
  },
  {
   "cell_type": "code",
   "execution_count": 13,
   "metadata": {
    "execution": {
     "iopub.execute_input": "2025-04-07T20:09:06.785518Z",
     "iopub.status.busy": "2025-04-07T20:09:06.784701Z",
     "iopub.status.idle": "2025-04-07T20:09:08.150017Z",
     "shell.execute_reply": "2025-04-07T20:09:08.148437Z",
     "shell.execute_reply.started": "2025-04-07T20:09:06.785413Z"
    },
    "trusted": true
   },
   "outputs": [
    {
     "name": "stdout",
     "output_type": "stream",
     "text": [
      "This message likely originates from the **rec.autos.buick** newsgroup. \n",
      "\n",
      "Here's why:\n",
      "\n",
      "* **Topic:** The message specifically focuses on Buick Bonnevilles, a car model manufactured by Buick.\n",
      "* **Newsgroup Focus:** The rec.autos.buick newsgroup is dedicated to discussions about Buick cars, making it a natural fit for such a query.\n",
      "* **Common Language:** The language used (\"LE SE LSE SSE SSEI,\" \"book value,\" \"mid-spring early summer\") are terms frequently used within automotive discussions, particularly in the context of buying and selling vehicles. \n",
      "\n",
      "While there might be other newsgroups where such a message could appear, rec.autos.buick is the most likely source given the content and focus of the message. \n",
      "\n"
     ]
    }
   ],
   "source": [
    "# Ask the model directly in a zero-shot prompt.\n",
    "\n",
    "prompt = \"From what newsgroup does the following message originate?\"\n",
    "baseline_response = client.models.generate_content(\n",
    "    model=\"gemini-1.5-flash-001\",\n",
    "    contents=[prompt, sample_row])\n",
    "print(baseline_response.text)"
   ]
  },
  {
   "cell_type": "markdown",
   "metadata": {},
   "source": [
    "This technique still produces quite a verbose response. You could try and parse out the relevant text, or refine the prompt even further."
   ]
  },
  {
   "cell_type": "code",
   "execution_count": 14,
   "metadata": {
    "execution": {
     "iopub.execute_input": "2025-04-07T20:09:16.139176Z",
     "iopub.status.busy": "2025-04-07T20:09:16.138721Z",
     "iopub.status.idle": "2025-04-07T20:09:17.157222Z",
     "shell.execute_reply": "2025-04-07T20:09:17.155962Z",
     "shell.execute_reply.started": "2025-04-07T20:09:16.139140Z"
    },
    "trusted": true
   },
   "outputs": [
    {
     "name": "stdout",
     "output_type": "stream",
     "text": [
      "rec.autos.misc\n",
      "\n",
      "Incorrect.\n"
     ]
    }
   ],
   "source": [
    "from google.api_core import retry\n",
    "\n",
    "# You can use a system instruction to do more direct prompting, and get a\n",
    "# more succinct answer.\n",
    "\n",
    "system_instruct = \"\"\"\n",
    "You are a classification service. You will be passed input that represents\n",
    "a newsgroup post and you must respond with the newsgroup from which the post\n",
    "originates.\n",
    "\"\"\"\n",
    "\n",
    "# Define a helper to retry when per-minute quota is reached.\n",
    "is_retriable = lambda e: (isinstance(e, genai.errors.APIError) and e.code in {429, 503})\n",
    "\n",
    "# If you want to evaluate your own technique, replace this body of this function\n",
    "# with your model, prompt and other code and return the predicted answer.\n",
    "@retry.Retry(predicate=is_retriable)\n",
    "def predict_label(post: str) -> str:\n",
    "    response = client.models.generate_content(\n",
    "        model=\"gemini-1.5-flash-001\",\n",
    "        config=types.GenerateContentConfig(\n",
    "            system_instruction=system_instruct),\n",
    "        contents=post)\n",
    "\n",
    "    rc = response.candidates[0]\n",
    "\n",
    "    # Any errors, filters, recitation, etc we can mark as a general error\n",
    "    if rc.finish_reason.name != \"STOP\":\n",
    "        return \"(error)\"\n",
    "    else:\n",
    "        # Clean up the response.\n",
    "        return response.text.strip()\n",
    "\n",
    "\n",
    "prediction = predict_label(sample_row)\n",
    "\n",
    "print(prediction)\n",
    "print()\n",
    "print(\"Correct!\" if prediction == sample_label else \"Incorrect.\")"
   ]
  },
  {
   "cell_type": "markdown",
   "metadata": {},
   "source": [
    "Now run a short evaluation using the function defined above. The test set is further sampled to ensure the experiment runs smoothly on the API's free tier. In practice you would evaluate over the whole set."
   ]
  },
  {
   "cell_type": "code",
   "execution_count": 15,
   "metadata": {
    "execution": {
     "iopub.execute_input": "2025-04-07T20:09:39.240210Z",
     "iopub.status.busy": "2025-04-07T20:09:39.239604Z",
     "iopub.status.idle": "2025-04-07T20:09:45.411327Z",
     "shell.execute_reply": "2025-04-07T20:09:45.409810Z",
     "shell.execute_reply.started": "2025-04-07T20:09:39.240149Z"
    },
    "trusted": true
   },
   "outputs": [
    {
     "data": {
      "application/vnd.jupyter.widget-view+json": {
       "model_id": "feab7be82c674953b63b2384d62bf54b",
       "version_major": 2,
       "version_minor": 0
      },
      "text/plain": [
       "Output()"
      ]
     },
     "metadata": {},
     "output_type": "display_data"
    },
    {
     "data": {
      "text/html": [
       "<pre style=\"white-space:pre;overflow-x:auto;line-height:normal;font-family:Menlo,'DejaVu Sans Mono',consolas,'Courier New',monospace\"></pre>\n"
      ],
      "text/plain": []
     },
     "metadata": {},
     "output_type": "display_data"
    },
    {
     "data": {
      "text/html": [
       "<pre style=\"white-space:pre;overflow-x:auto;line-height:normal;font-family:Menlo,'DejaVu Sans Mono',consolas,'Courier New',monospace\">\n",
       "</pre>\n"
      ],
      "text/plain": [
       "\n"
      ]
     },
     "metadata": {},
     "output_type": "display_data"
    },
    {
     "name": "stdout",
     "output_type": "stream",
     "text": [
      "Accuracy: 25.00%\n"
     ]
    }
   ],
   "source": [
    "import tqdm\n",
    "from tqdm.rich import tqdm as tqdmr\n",
    "import warnings\n",
    "\n",
    "# Enable tqdm features on Pandas.\n",
    "tqdmr.pandas()\n",
    "\n",
    "# But suppress the experimental warning\n",
    "warnings.filterwarnings(\"ignore\", category=tqdm.TqdmExperimentalWarning)\n",
    "\n",
    "\n",
    "# Further sample the test data to be mindful of the free-tier quota.\n",
    "df_baseline_eval = sample_data(df_test, 2, '.*')\n",
    "\n",
    "# Make predictions using the sampled data.\n",
    "df_baseline_eval['Prediction'] = df_baseline_eval['Text'].progress_apply(predict_label)\n",
    "\n",
    "# And calculate the accuracy.\n",
    "accuracy = (df_baseline_eval[\"Class Name\"] == df_baseline_eval[\"Prediction\"]).sum() / len(df_baseline_eval)\n",
    "print(f\"Accuracy: {accuracy:.2%}\")"
   ]
  },
  {
   "cell_type": "markdown",
   "metadata": {},
   "source": [
    "Now take a look at the dataframe to compare the predictions with the labels."
   ]
  },
  {
   "cell_type": "code",
   "execution_count": 16,
   "metadata": {
    "execution": {
     "iopub.execute_input": "2025-04-07T20:09:49.542040Z",
     "iopub.status.busy": "2025-04-07T20:09:49.541564Z",
     "iopub.status.idle": "2025-04-07T20:09:49.555908Z",
     "shell.execute_reply": "2025-04-07T20:09:49.554367Z",
     "shell.execute_reply.started": "2025-04-07T20:09:49.542000Z"
    },
    "trusted": true
   },
   "outputs": [
    {
     "data": {
      "text/html": [
       "<div>\n",
       "<style scoped>\n",
       "    .dataframe tbody tr th:only-of-type {\n",
       "        vertical-align: middle;\n",
       "    }\n",
       "\n",
       "    .dataframe tbody tr th {\n",
       "        vertical-align: top;\n",
       "    }\n",
       "\n",
       "    .dataframe thead th {\n",
       "        text-align: right;\n",
       "    }\n",
       "</style>\n",
       "<table border=\"1\" class=\"dataframe\">\n",
       "  <thead>\n",
       "    <tr style=\"text-align: right;\">\n",
       "      <th></th>\n",
       "      <th>Text</th>\n",
       "      <th>Label</th>\n",
       "      <th>Class Name</th>\n",
       "      <th>Prediction</th>\n",
       "    </tr>\n",
       "  </thead>\n",
       "  <tbody>\n",
       "    <tr>\n",
       "      <th>0</th>\n",
       "      <td>Re: The 1994 Mustang\\n\\nIn article &lt;&gt;  (Brian ...</td>\n",
       "      <td>7</td>\n",
       "      <td>rec.autos</td>\n",
       "      <td>rec.autos.sports.cars</td>\n",
       "    </tr>\n",
       "    <tr>\n",
       "      <th>1</th>\n",
       "      <td>Re: V4 V6 V8 V12 Vx?\\n\\n\\nV16 anyone? Anyone h...</td>\n",
       "      <td>7</td>\n",
       "      <td>rec.autos</td>\n",
       "      <td>rec.autos.sports</td>\n",
       "    </tr>\n",
       "    <tr>\n",
       "      <th>2</th>\n",
       "      <td>Re: Need advice for riding with someone on pil...</td>\n",
       "      <td>8</td>\n",
       "      <td>rec.motorcycles</td>\n",
       "      <td>rec.motorcycles</td>\n",
       "    </tr>\n",
       "    <tr>\n",
       "      <th>3</th>\n",
       "      <td>SQUIDS and Dealers \\n\\nYesterday, a friend had...</td>\n",
       "      <td>8</td>\n",
       "      <td>rec.motorcycles</td>\n",
       "      <td>rec.motorcycles</td>\n",
       "    </tr>\n",
       "    <tr>\n",
       "      <th>4</th>\n",
       "      <td>Candlestick\\n\\nHey folks,\\n\\nSaw the Giants pl...</td>\n",
       "      <td>9</td>\n",
       "      <td>rec.sport.baseball</td>\n",
       "      <td>rec.sports.baseball</td>\n",
       "    </tr>\n",
       "    <tr>\n",
       "      <th>5</th>\n",
       "      <td>Re: Jack Morris\\n &lt;&gt;\\n &lt;&gt;\\n &lt;&gt;\\n &lt;&gt; &lt;&gt;\\n &lt;&gt;\\n\\...</td>\n",
       "      <td>9</td>\n",
       "      <td>rec.sport.baseball</td>\n",
       "      <td>rec.sport.baseball</td>\n",
       "    </tr>\n",
       "    <tr>\n",
       "      <th>6</th>\n",
       "      <td>Re: Wings will win\\n\\nIn article &lt;&gt;  (Randy A....</td>\n",
       "      <td>10</td>\n",
       "      <td>rec.sport.hockey</td>\n",
       "      <td>rec.sports.hockey</td>\n",
       "    </tr>\n",
       "    <tr>\n",
       "      <th>7</th>\n",
       "      <td>NHL PLAYOFF RESULTS FOR GAMES PLAYED 4-21-93\\n...</td>\n",
       "      <td>10</td>\n",
       "      <td>rec.sport.hockey</td>\n",
       "      <td>rec.sport.hockey</td>\n",
       "    </tr>\n",
       "    <tr>\n",
       "      <th>8</th>\n",
       "      <td>Re: New Encryption Algorithm\\n\\n \\n&gt; &gt;  Well, ...</td>\n",
       "      <td>11</td>\n",
       "      <td>sci.crypt</td>\n",
       "      <td>(error)</td>\n",
       "    </tr>\n",
       "    <tr>\n",
       "      <th>9</th>\n",
       "      <td>Re: I have seen the lobby, and it is us\\n\\n (N...</td>\n",
       "      <td>11</td>\n",
       "      <td>sci.crypt</td>\n",
       "      <td>alt.atheism</td>\n",
       "    </tr>\n",
       "    <tr>\n",
       "      <th>10</th>\n",
       "      <td>Re: How to the disks copy protected.\\n\\nCommen...</td>\n",
       "      <td>12</td>\n",
       "      <td>sci.electronics</td>\n",
       "      <td>comp.os.ms-dos.programmer</td>\n",
       "    </tr>\n",
       "    <tr>\n",
       "      <th>11</th>\n",
       "      <td>Re: 1-bit A/D converter\\n\\nIn article &lt;&gt;  (Max...</td>\n",
       "      <td>12</td>\n",
       "      <td>sci.electronics</td>\n",
       "      <td>comp.dsp</td>\n",
       "    </tr>\n",
       "    <tr>\n",
       "      <th>12</th>\n",
       "      <td>insensitive technicians\\n\\nA friend was recent...</td>\n",
       "      <td>13</td>\n",
       "      <td>sci.med</td>\n",
       "      <td>alt.society.support</td>\n",
       "    </tr>\n",
       "    <tr>\n",
       "      <th>13</th>\n",
       "      <td>Re: Pregnency without sex?\\n\\nLen Howard () wr...</td>\n",
       "      <td>13</td>\n",
       "      <td>sci.med</td>\n",
       "      <td>alt.atheism</td>\n",
       "    </tr>\n",
       "    <tr>\n",
       "      <th>14</th>\n",
       "      <td>Re: Mothership for Flybys and cutting costs..\\...</td>\n",
       "      <td>14</td>\n",
       "      <td>sci.space</td>\n",
       "      <td>space.missions</td>\n",
       "    </tr>\n",
       "    <tr>\n",
       "      <th>15</th>\n",
       "      <td>Re: Vandenberg launches?\\n\\nIn article &lt;&gt;  (Pa...</td>\n",
       "      <td>14</td>\n",
       "      <td>sci.space</td>\n",
       "      <td>misc.space</td>\n",
       "    </tr>\n",
       "  </tbody>\n",
       "</table>\n",
       "</div>"
      ],
      "text/plain": [
       "                                                 Text  Label  \\\n",
       "0   Re: The 1994 Mustang\\n\\nIn article <>  (Brian ...      7   \n",
       "1   Re: V4 V6 V8 V12 Vx?\\n\\n\\nV16 anyone? Anyone h...      7   \n",
       "2   Re: Need advice for riding with someone on pil...      8   \n",
       "3   SQUIDS and Dealers \\n\\nYesterday, a friend had...      8   \n",
       "4   Candlestick\\n\\nHey folks,\\n\\nSaw the Giants pl...      9   \n",
       "5   Re: Jack Morris\\n <>\\n <>\\n <>\\n <> <>\\n <>\\n\\...      9   \n",
       "6   Re: Wings will win\\n\\nIn article <>  (Randy A....     10   \n",
       "7   NHL PLAYOFF RESULTS FOR GAMES PLAYED 4-21-93\\n...     10   \n",
       "8   Re: New Encryption Algorithm\\n\\n \\n> >  Well, ...     11   \n",
       "9   Re: I have seen the lobby, and it is us\\n\\n (N...     11   \n",
       "10  Re: How to the disks copy protected.\\n\\nCommen...     12   \n",
       "11  Re: 1-bit A/D converter\\n\\nIn article <>  (Max...     12   \n",
       "12  insensitive technicians\\n\\nA friend was recent...     13   \n",
       "13  Re: Pregnency without sex?\\n\\nLen Howard () wr...     13   \n",
       "14  Re: Mothership for Flybys and cutting costs..\\...     14   \n",
       "15  Re: Vandenberg launches?\\n\\nIn article <>  (Pa...     14   \n",
       "\n",
       "            Class Name                 Prediction  \n",
       "0            rec.autos      rec.autos.sports.cars  \n",
       "1            rec.autos           rec.autos.sports  \n",
       "2      rec.motorcycles            rec.motorcycles  \n",
       "3      rec.motorcycles            rec.motorcycles  \n",
       "4   rec.sport.baseball        rec.sports.baseball  \n",
       "5   rec.sport.baseball         rec.sport.baseball  \n",
       "6     rec.sport.hockey          rec.sports.hockey  \n",
       "7     rec.sport.hockey           rec.sport.hockey  \n",
       "8            sci.crypt                    (error)  \n",
       "9            sci.crypt                alt.atheism  \n",
       "10     sci.electronics  comp.os.ms-dos.programmer  \n",
       "11     sci.electronics                   comp.dsp  \n",
       "12             sci.med        alt.society.support  \n",
       "13             sci.med                alt.atheism  \n",
       "14           sci.space             space.missions  \n",
       "15           sci.space                 misc.space  "
      ]
     },
     "execution_count": 16,
     "metadata": {},
     "output_type": "execute_result"
    }
   ],
   "source": [
    "df_baseline_eval"
   ]
  },
  {
   "cell_type": "markdown",
   "metadata": {
    "id": "Ok7ugrLzcghX"
   },
   "source": [
    "## Tune a custom model\n",
    "\n",
    "In this example you'll use tuning to create a model that requires no prompting or system instructions and outputs succinct text from the classes you provide in the training data.\n",
    "\n",
    "The data contains both input text (the processed posts) and output text (the category, or newsgroup), that you can use to start tuning a model.\n",
    "\n",
    "When calling `tune()`, you can specify model tuning hyperparameters too:\n",
    " - `epoch_count`: defines how many times to loop through the data,\n",
    " - `batch_size`: defines how many rows to process in a single step, and\n",
    " - `learning_rate`: defines the scaling factor for updating model weights at each step.\n",
    "\n",
    "You can also choose to omit them and use the defaults. [Learn more](https://developers.google.com/machine-learning/crash-course/linear-regression/hyperparameters) about these parameters and how they work. For this example these parameters were selected by running some tuning jobs and selecting parameters that converged efficiently.\n",
    "\n",
    "This example will start a new tuning job, but only if one does not already exist. This allows you to leave this codelab and come back later - re-running this step will find your last model."
   ]
  },
  {
   "cell_type": "code",
   "execution_count": 17,
   "metadata": {
    "execution": {
     "iopub.execute_input": "2025-04-07T20:11:09.492965Z",
     "iopub.status.busy": "2025-04-07T20:11:09.492502Z",
     "iopub.status.idle": "2025-04-07T20:11:12.297005Z",
     "shell.execute_reply": "2025-04-07T20:11:12.295675Z",
     "shell.execute_reply.started": "2025-04-07T20:11:09.492924Z"
    },
    "id": "pWOZlspfY8dV",
    "trusted": true
   },
   "outputs": [
    {
     "name": "stderr",
     "output_type": "stream",
     "text": [
      "/tmp/ipykernel_29/2550230802.py:39: ExperimentalWarning: The SDK's tuning implementation is experimental, and may change in future versions.\n",
      "  tuning_op = client.tunings.tune(\n"
     ]
    },
    {
     "name": "stdout",
     "output_type": "stream",
     "text": [
      "JobState.JOB_STATE_QUEUED\n",
      "tunedModels/newsgroup-classification-model-8zege9qnq\n"
     ]
    }
   ],
   "source": [
    "from collections.abc import Iterable\n",
    "import random\n",
    "\n",
    "\n",
    "# Convert the data frame into a dataset suitable for tuning.\n",
    "input_data = {'examples': \n",
    "    df_train[['Text', 'Class Name']]\n",
    "      .rename(columns={'Text': 'textInput', 'Class Name': 'output'})\n",
    "      .to_dict(orient='records')\n",
    " }\n",
    "\n",
    "# If you are re-running this lab, add your model_id here.\n",
    "model_id = None\n",
    "\n",
    "# Or try and find a recent tuning job.\n",
    "if not model_id:\n",
    "  queued_model = None\n",
    "  # Newest models first.\n",
    "  for m in reversed(client.tunings.list()):\n",
    "    # Only look at newsgroup classification models.\n",
    "    if m.name.startswith('tunedModels/newsgroup-classification-model'):\n",
    "      # If there is a completed model, use the first (newest) one.\n",
    "      if m.state.name == 'JOB_STATE_SUCCEEDED':\n",
    "        model_id = m.name\n",
    "        print('Found existing tuned model to reuse.')\n",
    "        break\n",
    "\n",
    "      elif m.state.name == 'JOB_STATE_RUNNING' and not queued_model:\n",
    "        # If there's a model still queued, remember the most recent one.\n",
    "        queued_model = m.name\n",
    "  else:\n",
    "    if queued_model:\n",
    "      model_id = queued_model\n",
    "      print('Found queued model, still waiting.')\n",
    "\n",
    "\n",
    "# Upload the training data and queue the tuning job.\n",
    "if not model_id:\n",
    "    tuning_op = client.tunings.tune(\n",
    "        base_model=\"models/gemini-1.5-flash-001-tuning\",\n",
    "        training_dataset=input_data,\n",
    "        config=types.CreateTuningJobConfig(\n",
    "            tuned_model_display_name=\"Newsgroup classification model\",\n",
    "            batch_size=16,\n",
    "            epoch_count=2,\n",
    "        ),\n",
    "    )\n",
    "\n",
    "    print(tuning_op.state)\n",
    "    model_id = tuning_op.name\n",
    "\n",
    "print(model_id)"
   ]
  },
  {
   "cell_type": "markdown",
   "metadata": {
    "id": "NQ3YZ2MBubCY"
   },
   "source": [
    "This has created a tuning job that will run in the background. To inspect the progress of the tuning job, run this cell to plot the current status and loss curve. Once the status reaches `ACTIVE`, tuning is complete and the model is ready to use.\n",
    "\n",
    "Tuning jobs are queued, so it may look like no training steps have been taken initially but it will progress. Tuning can take anywhere from a few minutes to multiple hours, depending on factors like your dataset size and how busy the tuning infrastrature is. Why not treat yourself to a nice cup of tea while you wait, or come and say \"Hi!\" in the group [Discord](https://discord.com/invite/kaggle).\n",
    "\n",
    "It is safe to stop this cell at any point. It will not stop the tuning job.\n",
    "\n",
    "**IMPORTANT**: Due to the high volume of users doing this course, tuning jobs may be queued for many hours. Take a note of your tuned model ID above (`tunedModels/...`) so you can come back to it tomorrow. In the meantime, check out the [Search grounding](https://www.kaggle.com/code/markishere/day-4-google-search-grounding/) codelab. If you want to try tuning a local LLM, check out [the fine-tuning guides for tuning a Gemma model](https://ai.google.dev/gemma/docs/tune)."
   ]
  },
  {
   "cell_type": "code",
   "execution_count": 18,
   "metadata": {
    "execution": {
     "iopub.execute_input": "2025-04-07T20:11:53.951742Z",
     "iopub.status.busy": "2025-04-07T20:11:53.951251Z",
     "iopub.status.idle": "2025-04-07T20:16:55.949376Z",
     "shell.execute_reply": "2025-04-07T20:16:55.948067Z",
     "shell.execute_reply.started": "2025-04-07T20:11:53.951707Z"
    },
    "id": "c4ef5f13692d",
    "trusted": true
   },
   "outputs": [
    {
     "name": "stdout",
     "output_type": "stream",
     "text": [
      "JobState.JOB_STATE_RUNNING\n",
      "JobState.JOB_STATE_RUNNING\n",
      "JobState.JOB_STATE_RUNNING\n",
      "JobState.JOB_STATE_RUNNING\n",
      "JobState.JOB_STATE_RUNNING\n",
      "Done! The model state is: JOB_STATE_SUCCEEDED\n"
     ]
    }
   ],
   "source": [
    "import datetime\n",
    "import time\n",
    "\n",
    "\n",
    "MAX_WAIT = datetime.timedelta(minutes=10)\n",
    "\n",
    "while not (tuned_model := client.tunings.get(name=model_id)).has_ended:\n",
    "\n",
    "    print(tuned_model.state)\n",
    "    time.sleep(60)\n",
    "\n",
    "    # Don't wait too long. Use a public model if this is going to take a while.\n",
    "    if datetime.datetime.now(datetime.timezone.utc) - tuned_model.create_time > MAX_WAIT:\n",
    "        print(\"Taking a shortcut, using a previously prepared model.\")\n",
    "        model_id = \"tunedModels/newsgroup-classification-model-ltenbi1b\"\n",
    "        tuned_model = client.tunings.get(name=model_id)\n",
    "        break\n",
    "\n",
    "\n",
    "print(f\"Done! The model state is: {tuned_model.state.name}\")\n",
    "\n",
    "if not tuned_model.has_succeeded and tuned_model.error:\n",
    "    print(\"Error:\", tuned_model.error)"
   ]
  },
  {
   "cell_type": "markdown",
   "metadata": {
    "id": "9-qiIdK4u80z"
   },
   "source": [
    "## Use the new model\n",
    "\n",
    "Now that you have a tuned model, try it out with custom data. You use the same API as a normal Gemini API interaction, but you specify your new model as the model name, which will start with `tunedModels/`."
   ]
  },
  {
   "cell_type": "code",
   "execution_count": 19,
   "metadata": {
    "execution": {
     "iopub.execute_input": "2025-04-07T20:18:18.791994Z",
     "iopub.status.busy": "2025-04-07T20:18:18.791518Z",
     "iopub.status.idle": "2025-04-07T20:18:20.592845Z",
     "shell.execute_reply": "2025-04-07T20:18:20.591502Z",
     "shell.execute_reply.started": "2025-04-07T20:18:18.791953Z"
    },
    "id": "hyO2-MXLvM6a",
    "trusted": true
   },
   "outputs": [
    {
     "name": "stdout",
     "output_type": "stream",
     "text": [
      "sci.space\n"
     ]
    }
   ],
   "source": [
    "new_text = \"\"\"\n",
    "First-timer looking to get out of here.\n",
    "\n",
    "Hi, I'm writing about my interest in travelling to the outer limits!\n",
    "\n",
    "What kind of craft can I buy? What is easiest to access from this 3rd rock?\n",
    "\n",
    "Let me know how to do that please.\n",
    "\"\"\"\n",
    "\n",
    "response = client.models.generate_content(\n",
    "    model=model_id, contents=new_text)\n",
    "\n",
    "print(response.text)"
   ]
  },
  {
   "cell_type": "markdown",
   "metadata": {
    "id": "xajLek9DySH_"
   },
   "source": [
    "### Evaluation\n",
    "\n",
    "You can see that the model outputs labels that correspond to those in the training data, and without any system instructions or prompting, which is already a great improvement. Now see how well it performs on the test set.\n",
    "\n",
    "Note that there is no parallelism in this example; classifying the test sub-set will take a few minutes."
   ]
  },
  {
   "cell_type": "code",
   "execution_count": 20,
   "metadata": {
    "execution": {
     "iopub.execute_input": "2025-04-07T20:18:28.719288Z",
     "iopub.status.busy": "2025-04-07T20:18:28.718009Z",
     "iopub.status.idle": "2025-04-07T20:21:01.855757Z",
     "shell.execute_reply": "2025-04-07T20:21:01.854445Z",
     "shell.execute_reply.started": "2025-04-07T20:18:28.719223Z"
    },
    "id": "6T2Y3ZApvbMw",
    "trusted": true
   },
   "outputs": [
    {
     "data": {
      "application/vnd.jupyter.widget-view+json": {
       "model_id": "d388af41834c4fc5820a63fe00723841",
       "version_major": 2,
       "version_minor": 0
      },
      "text/plain": [
       "Output()"
      ]
     },
     "metadata": {},
     "output_type": "display_data"
    },
    {
     "data": {
      "text/html": [
       "<pre style=\"white-space:pre;overflow-x:auto;line-height:normal;font-family:Menlo,'DejaVu Sans Mono',consolas,'Courier New',monospace\"></pre>\n"
      ],
      "text/plain": []
     },
     "metadata": {},
     "output_type": "display_data"
    },
    {
     "data": {
      "text/html": [
       "<pre style=\"white-space:pre;overflow-x:auto;line-height:normal;font-family:Menlo,'DejaVu Sans Mono',consolas,'Courier New',monospace\">\n",
       "</pre>\n"
      ],
      "text/plain": [
       "\n"
      ]
     },
     "metadata": {},
     "output_type": "display_data"
    },
    {
     "name": "stdout",
     "output_type": "stream",
     "text": [
      "Accuracy: 93.75%\n"
     ]
    }
   ],
   "source": [
    "@retry.Retry(predicate=is_retriable)\n",
    "def classify_text(text: str) -> str:\n",
    "    \"\"\"Classify the provided text into a known newsgroup.\"\"\"\n",
    "    response = client.models.generate_content(\n",
    "        model=model_id, contents=text)\n",
    "    rc = response.candidates[0]\n",
    "\n",
    "    # Any errors, filters, recitation, etc we can mark as a general error\n",
    "    if rc.finish_reason.name != \"STOP\":\n",
    "        return \"(error)\"\n",
    "    else:\n",
    "        return rc.content.parts[0].text\n",
    "\n",
    "\n",
    "# The sampling here is just to minimise your quota usage. If you can, you should\n",
    "# evaluate the whole test set with `df_model_eval = df_test.copy()`.\n",
    "df_model_eval = sample_data(df_test, 4, '.*')\n",
    "\n",
    "df_model_eval[\"Prediction\"] = df_model_eval[\"Text\"].progress_apply(classify_text)\n",
    "\n",
    "accuracy = (df_model_eval[\"Class Name\"] == df_model_eval[\"Prediction\"]).sum() / len(df_model_eval)\n",
    "print(f\"Accuracy: {accuracy:.2%}\")"
   ]
  },
  {
   "cell_type": "markdown",
   "metadata": {},
   "source": [
    "## Compare token usage\n",
    "\n",
    "AI Studio and the Gemini API provide model tuning at no cost, however normal limits and charges apply for *use* of a tuned model.\n",
    "\n",
    "The size of the input prompt and other generation config like system instructions, as well as the number of generated output tokens, all contribute to the overall cost of a request."
   ]
  },
  {
   "cell_type": "code",
   "execution_count": 21,
   "metadata": {
    "execution": {
     "iopub.execute_input": "2025-04-07T20:21:29.203357Z",
     "iopub.status.busy": "2025-04-07T20:21:29.202934Z",
     "iopub.status.idle": "2025-04-07T20:21:29.529225Z",
     "shell.execute_reply": "2025-04-07T20:21:29.527922Z",
     "shell.execute_reply.started": "2025-04-07T20:21:29.203319Z"
    },
    "trusted": true
   },
   "outputs": [
    {
     "name": "stdout",
     "output_type": "stream",
     "text": [
      "System instructed baseline model: 172 (input)\n",
      "Tuned model: 136 (input)\n",
      "Token savings: 26.47%\n"
     ]
    }
   ],
   "source": [
    "# Calculate the *input* cost of the baseline model with system instructions.\n",
    "sysint_tokens = client.models.count_tokens(\n",
    "    model='gemini-1.5-flash-001', contents=[system_instruct, sample_row]\n",
    ").total_tokens\n",
    "print(f'System instructed baseline model: {sysint_tokens} (input)')\n",
    "\n",
    "# Calculate the input cost of the tuned model.\n",
    "tuned_tokens = client.models.count_tokens(model=tuned_model.base_model, contents=sample_row).total_tokens\n",
    "print(f'Tuned model: {tuned_tokens} (input)')\n",
    "\n",
    "savings = (sysint_tokens - tuned_tokens) / tuned_tokens\n",
    "print(f'Token savings: {savings:.2%}')  # Note that this is only n=1."
   ]
  },
  {
   "cell_type": "markdown",
   "metadata": {},
   "source": [
    "The earlier verbose model also produced more output tokens than needed for this task."
   ]
  },
  {
   "cell_type": "code",
   "execution_count": 22,
   "metadata": {
    "execution": {
     "iopub.execute_input": "2025-04-07T20:21:44.909725Z",
     "iopub.status.busy": "2025-04-07T20:21:44.909294Z",
     "iopub.status.idle": "2025-04-07T20:21:45.762020Z",
     "shell.execute_reply": "2025-04-07T20:21:45.760519Z",
     "shell.execute_reply.started": "2025-04-07T20:21:44.909691Z"
    },
    "trusted": true
   },
   "outputs": [
    {
     "name": "stdout",
     "output_type": "stream",
     "text": [
      "Baseline (verbose) output tokens: 162\n",
      "Tuned output tokens: 4\n"
     ]
    }
   ],
   "source": [
    "baseline_token_output = baseline_response.usage_metadata.candidates_token_count\n",
    "print('Baseline (verbose) output tokens:', baseline_token_output)\n",
    "\n",
    "tuned_model_output = client.models.generate_content(\n",
    "    model=model_id, contents=sample_row)\n",
    "tuned_tokens_output = tuned_model_output.usage_metadata.candidates_token_count\n",
    "print('Tuned output tokens:', tuned_tokens_output)"
   ]
  },
  {
   "cell_type": "markdown",
   "metadata": {
    "id": "6c1204a5d0ab"
   },
   "source": [
    "## Next steps\n",
    "\n",
    "Now that you have tuned a classification model, try some other tasks, like tuning a model to respond with a specific tone or style using hand-written examples (or even generated examples!). Kaggle hosts [a number of datasets](https://www.kaggle.com/datasets) you can try out.\n",
    "\n",
    "Learn about [when supervised fine-tuning is most effective](https://cloud.google.com/blog/products/ai-machine-learning/supervised-fine-tuning-for-gemini-llm).\n",
    "\n",
    "And check out the [fine-tuning tutorial](https://ai.google.dev/gemini-api/docs/model-tuning/tutorial?hl=en&lang=python) for another example that shows a tuned model extending beyond the training data to new, unseen inputs.\n",
    "\n",
    "*- [Mark McD](https://linktr.ee/markmcd)*"
   ]
  }
 ],
 "metadata": {
  "colab": {
   "name": "day-4-fine-tuning-a-custom-model.ipynb",
   "toc_visible": true
  },
  "kaggle": {
   "accelerator": "none",
   "dataSources": [],
   "dockerImageVersionId": 30786,
   "isGpuEnabled": false,
   "isInternetEnabled": true,
   "language": "python",
   "sourceType": "notebook"
  },
  "kernelspec": {
   "display_name": ".venv",
   "language": "python",
   "name": "python3"
  },
  "language_info": {
   "codemirror_mode": {
    "name": "ipython",
    "version": 3
   },
   "file_extension": ".py",
   "mimetype": "text/x-python",
   "name": "python",
   "nbconvert_exporter": "python",
   "pygments_lexer": "ipython3",
   "version": "3.13.2"
  }
 },
 "nbformat": 4,
 "nbformat_minor": 4
}
